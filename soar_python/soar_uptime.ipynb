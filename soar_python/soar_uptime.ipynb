{
 "cells": [
  {
   "cell_type": "code",
   "execution_count": 16,
   "metadata": {},
   "outputs": [],
   "source": [
    "import numpy as np\n",
    "import datetime\n",
    "import matplotlib.pyplot as plt\n",
    "import matplotlib.dates as mdates\n"
   ]
  },
  {
   "cell_type": "code",
   "execution_count": 17,
   "metadata": {},
   "outputs": [],
   "source": [
    "dates = []\n",
    "\n",
    "years = np.array([2016,2017,2018])\n",
    "months_2016 = np.arange(3,13,1)\n",
    "months_2017 = np.arange(1,13,1)\n",
    "months_2018 = np.arange(1,4,1)\n",
    "months_all = np.array([months_2016,months_2017,months_2018])\n",
    "days_per_month_2016 = np.array([31,30,31,30,31,31,30,31,30,31])\n",
    "days_per_month_2017 = np.array([31,28,31,30,31,30,31,31,30,31,30,31])\n",
    "days_per_month_2018 = np.array([31,28,31,30])\n",
    "days_per_month_all = [days_per_month_2016,days_per_month_2017,days_per_month_2018]\n",
    "\n",
    "year_dum_i = 0\n",
    "for year in years:\n",
    "    days_per_month = days_per_month_all[year_dum_i]\n",
    "    months = months_all[year_dum_i]\n",
    "    month_dum_i = 0\n",
    "    for month in months:\n",
    "        for day in range(1,days_per_month[month_dum_i]+1):\n",
    "            dates.append(datetime.datetime(year,month,day,0,0,0))\n",
    "        month_dum_i+=1\n",
    "    year_dum_i+=1\n",
    "    \n",
    "    \n",
    "    \n",
    "dates = np.array(dates)"
   ]
  },
  {
   "cell_type": "code",
   "execution_count": 28,
   "metadata": {},
   "outputs": [],
   "source": [
    "# MICRE BASTA\n",
    "micre_basta_start_date = datetime.datetime(2016,4,2,0,0,0)\n",
    "micre_basta_end_date = datetime.datetime(2017,3,17,0,0,0)\n",
    "\n",
    "# MICRE Lidar\n",
    "micre_lidar_start_date_1 = datetime.datetime(2016,4,7,0,0,0)\n",
    "micre_lidar_end_date_1 = datetime.datetime(2016,11,27,0,0,0)\n",
    "micre_lidar_start_date_2 = datetime.datetime(2017,4,1,0,0,0)\n",
    "micre_lidar_end_date_2 = datetime.datetime(2018,3,13,0,0,0)\n",
    "\n",
    "# MICRE ARM Ceilometer\n",
    "micre_arm_ceil_start_date_1 = datetime.datetime(2016,4,2,0,0,0)\n",
    "micre_arm_ceil_end_date_1 = datetime.datetime(2016,12,14,0,0,0)\n",
    "micre_arm_ceil_start_date_2 = datetime.datetime(2017,2,22,0,0,0)\n",
    "micre_arm_ceil_end_date_2 = datetime.datetime(2018,3,13,0,0,0)\n",
    "\n",
    "#  MICRE U. Canterbury Ceilometer\n",
    "micre_ucant_ceil_start_date = datetime.datetime(2016,4,2,0,0,0)\n",
    "micre_ucant_ceil_end_date = datetime.datetime(2018,3,13,0,0,0)\n",
    "\n",
    "# MICRE MWR ARM 3-Channel\n",
    "micre_arm_mwr_3_start_date = datetime.datetime(2016,4,2,0,0,0)\n",
    "micre_arm_mwr_3_end_date = datetime.datetime(2016,6,13,0,0,0)\n",
    "\n",
    "# MICRE MWR ARM 2-Channel\n",
    "micre_arm_mwr_2_start_date = datetime.datetime(2016,12,28,0,0,0)\n",
    "micre_arm_mwr_2_end_date = datetime.datetime(2018,3,13,0,0,0)\n",
    "\n",
    "# MICRE Radiosondes\n",
    "micre_sondes_start_date = datetime.datetime(2016,4,2,0,0,0)\n",
    "micre_sondes_end_date = datetime.datetime(2018,3,13,0,0,0)\n",
    "\n",
    "# CAPRICORN 1 DATES\n",
    "capricorn_1_start_date = datetime.datetime(2016,3,13,0,0,0)\n",
    "capricorn_1_end_date = datetime.datetime(2016,4,15,0,0,0)\n",
    "\n",
    "# CAPRICORN 2 DATES\n",
    "capricorn_2_start_date = datetime.datetime(2018,1,11,0,0,0)\n",
    "capricorn_2_end_date = datetime.datetime(2018,2,21,0,0,0)"
   ]
  },
  {
   "cell_type": "code",
   "execution_count": 19,
   "metadata": {},
   "outputs": [],
   "source": [
    "#---------------------------------------------------------\n",
    "# MICRE\n",
    "#---------------------------------------------------------\n",
    "\n",
    "# basta\n",
    "micre_basta_dates = [micre_basta_start_date + datetime.timedelta(days=x) for x in range(0, (micre_basta_end_date-micre_basta_start_date).days)]\n",
    "\n",
    "# lidar\n",
    "micre_lidar_dates_1 = [micre_lidar_start_date_1 + datetime.timedelta(days=x) for x in range(0, (micre_lidar_end_date_1-micre_lidar_start_date_1).days)]\n",
    "micre_lidar_dates_2 = [micre_lidar_start_date_2 + datetime.timedelta(days=x) for x in range(0, (micre_lidar_end_date_2-micre_lidar_start_date_2).days)]\n",
    "\n",
    "# arm ceiilometer\n",
    "micre_arm_ceil_dates_1 = [micre_arm_ceil_start_date_1 + datetime.timedelta(days=x) for x in range(0, (micre_arm_ceil_end_date_1-micre_arm_ceil_start_date_1).days)]\n",
    "micre_arm_ceil_dates_2 = [micre_arm_ceil_start_date_2 + datetime.timedelta(days=x) for x in range(0, (micre_arm_ceil_end_date_2-micre_arm_ceil_start_date_2).days)]\n",
    "\n",
    "# u. canterbury ceiilometer\n",
    "micre_ucant_ceil_dates = [micre_ucant_ceil_start_date + datetime.timedelta(days=x) for x in range(0, (micre_ucant_ceil_end_date-micre_ucant_ceil_start_date).days)]\n",
    "\n",
    "#mwr\n",
    "micre_arm_mwr_3_dates = [micre_arm_mwr_3_start_date + datetime.timedelta(days=x) for x in range(0, (micre_arm_mwr_3_end_date-micre_arm_mwr_3_start_date).days)]\n",
    "micre_arm_mwr_2_dates = [micre_arm_mwr_2_start_date + datetime.timedelta(days=x) for x in range(0, (micre_arm_mwr_2_end_date-micre_arm_mwr_2_start_date).days)]\n",
    "\n",
    "#sondes\n",
    "micre_sondes_dates = [micre_sondes_start_date + datetime.timedelta(days=x) for x in range(0, (micre_sondes_end_date-micre_sondes_start_date).days)]\n",
    "\n"
   ]
  },
  {
   "cell_type": "code",
   "execution_count": 23,
   "metadata": {},
   "outputs": [],
   "source": [
    "#--------------------------------------------------------\n",
    "# CAPRICORN 1\n",
    "#--------------------------------------------------------\n",
    "capricorn_1_dates = [capricorn_1_start_date + datetime.timedelta(days=x) for x in range(0, (capricorn_1_end_date-capricorn_1_start_date).days)]"
   ]
  },
  {
   "cell_type": "code",
   "execution_count": 29,
   "metadata": {},
   "outputs": [],
   "source": [
    "#--------------------------------------------------------\n",
    "# CAPRICORN 2\n",
    "#--------------------------------------------------------\n",
    "capricorn_2_dates = [capricorn_2_start_date + datetime.timedelta(days=x) for x in range(0, (capricorn_2_end_date-capricorn_2_start_date).days)]"
   ]
  },
  {
   "cell_type": "code",
   "execution_count": 20,
   "metadata": {},
   "outputs": [],
   "source": [
    "# MARCUS\n",
    "marcus_start_date_1 = datetime.datetime(2017,10,29,0,0,0)\n",
    "marcus_end_date_1 = datetime.datetime(2017,12,3,0,0,0)\n",
    "\n",
    "marcus_start_date_2 = datetime.datetime(2017,12,13,0,0,0)\n",
    "marcus_end_date_2 = datetime.datetime(2018,1,10,0,0,0)\n",
    "\n",
    "marcus_start_date_3 = datetime.datetime(2018,1,16,0,0,0)\n",
    "marcus_end_date_3 = datetime.datetime(2018,3,4,0,0,0)\n",
    "\n",
    "marcus_start_date_4 = datetime.datetime(2018,3,9,0,0,0)\n",
    "marcus_end_date_4 = datetime.datetime(2018,3,25,0,0,0)"
   ]
  },
  {
   "cell_type": "code",
   "execution_count": 21,
   "metadata": {},
   "outputs": [],
   "source": [
    "marcus_dates_1 = [marcus_start_date_1 + datetime.timedelta(days=x) for x in range(0, (marcus_end_date_1-marcus_start_date_1).days)]\n",
    "marcus_dates_2 = [marcus_start_date_2 + datetime.timedelta(days=x) for x in range(0, (marcus_end_date_2-marcus_start_date_2).days)]\n",
    "marcus_dates_3 = [marcus_start_date_3 + datetime.timedelta(days=x) for x in range(0, (marcus_end_date_3-marcus_start_date_3).days)]\n",
    "marcus_dates_4 = [marcus_start_date_4 + datetime.timedelta(days=x) for x in range(0, (marcus_end_date_4-marcus_start_date_4).days)]\n"
   ]
  },
  {
   "cell_type": "code",
   "execution_count": 33,
   "metadata": {},
   "outputs": [
    {
     "data": {
      "text/plain": [
       "<matplotlib.collections.BrokenBarHCollection at 0x12190d9e8>"
      ]
     },
     "execution_count": 33,
     "metadata": {},
     "output_type": "execute_result"
    },
    {
     "data": {
      "image/png": "[encoded data removed]",
      "text/plain": [
       "<Figure size 864x432 with 1 Axes>"
      ]
     },
     "metadata": {
      "needs_background": "light"
     },
     "output_type": "display_data"
    }
   ],
   "source": [
    "plt.rc('text',usetex=True)\n",
    "dfmt = mdates.DateFormatter('%Y-%m')\n",
    "\n",
    "fig = plt.figure(figsize=(12,6))\n",
    "ax1 = fig.add_subplot(111)\n",
    "ax1.grid(which='both',color='grey',ls='solid')\n",
    "ax1.tick_params(labelsize=15)\n",
    "ax1.set_xlabel('Date [YYYY-MM]',fontsize=15)\n",
    "ax1.set_xlim(dates[0],dates[-1])\n",
    "#ax1.set_xlim(dates[0],dates[10])\n",
    "ax1.xaxis.set_major_formatter(dfmt)\n",
    "\n",
    "\n",
    "datasets = ['BASTA\\n(95 GHz/W-band)','AAD\\nPolarization Lidar','ARM\\nCeilometer','Univ.\\nCanterbury\\nCeilometer',\\\n",
    "           'ARM MWR\\n3-channel','ARM MWR\\n2-channel','BOM Radiosondes\\n(Twice daily)','MARCUS','CAPRICORN 1',\\\n",
    "           'CAPRICORN 2']\n",
    "y_pos = np.arange(len(datasets))\n",
    "\n",
    "ax1.set_yticks(y_pos)\n",
    "ax1.set_yticklabels(datasets)\n",
    "ax1.broken_barh([(micre_basta_start_date,len(micre_basta_dates))],(y_pos[0],0.5),facecolors='cyan')\n",
    "ax1.broken_barh([(micre_lidar_start_date_1,len(micre_lidar_dates_1)),(micre_lidar_start_date_2,len(micre_lidar_dates_2))],(y_pos[1],0.5),facecolors='blue')\n",
    "ax1.broken_barh([(micre_arm_ceil_start_date_1,len(micre_arm_ceil_dates_1)),(micre_arm_ceil_start_date_2,len(micre_arm_ceil_dates_2))],(y_pos[2],0.5),facecolors='red')\n",
    "ax1.broken_barh([(micre_ucant_ceil_start_date,len(micre_ucant_ceil_dates))],(y_pos[3],0.5),facecolors='orange')\n",
    "ax1.broken_barh([(micre_arm_mwr_3_start_date,len(micre_arm_mwr_3_dates))],(y_pos[4],0.5),facecolors='purple')\n",
    "ax1.broken_barh([(micre_arm_mwr_2_start_date,len(micre_arm_mwr_2_dates))],(y_pos[5],0.5),facecolors='pink')\n",
    "ax1.broken_barh([(micre_sondes_start_date,len(micre_sondes_dates))],(y_pos[6],0.5),facecolors='green')\n",
    "\n",
    "\n",
    "# MARCUS\n",
    "ax1.broken_barh([(marcus_start_date_1,len(marcus_dates_1)),(marcus_start_date_2,len(marcus_dates_2)),(marcus_start_date_3,len(marcus_dates_3)),(marcus_start_date_4,len(marcus_dates_4))],(y_pos[7],0.5),facecolors='tab:grey')\n",
    "\n",
    "# CAPRICORN 1\n",
    "ax1.broken_barh([(capricorn_1_start_date,len(capricorn_1_dates))],(y_pos[8],0.5),facecolors='red')\n",
    "\n",
    "# CAPRICORN 2\n",
    "ax1.broken_barh([(capricorn_2_start_date,len(capricorn_2_dates))],(y_pos[9],0.5),facecolors='gold')\n",
    "\n",
    "#ax1.set_title('MICRE',fontsize=40)"
   ]
  },
  {
   "cell_type": "code",
   "execution_count": 15,
   "metadata": {},
   "outputs": [
    {
     "data": {
      "text/plain": [
       "346"
      ]
     },
     "execution_count": 15,
     "metadata": {},
     "output_type": "execute_result"
    }
   ],
   "source": [
    "len(micre_lidar_dates_2)"
   ]
  },
  {
   "cell_type": "code",
   "execution_count": null,
   "metadata": {},
   "outputs": [],
   "source": []
  },
  {
   "cell_type": "code",
   "execution_count": null,
   "metadata": {},
   "outputs": [],
   "source": []
  },
  {
   "cell_type": "code",
   "execution_count": null,
   "metadata": {},
   "outputs": [],
   "source": []
  }
 ],
 "metadata": {
  "kernelspec": {
   "display_name": "Python 3",
   "language": "python",
   "name": "python3"
  },
  "language_info": {
   "codemirror_mode": {
    "name": "ipython",
    "version": 3
   },
   "file_extension": ".py",
   "mimetype": "text/x-python",
   "name": "python",
   "nbconvert_exporter": "python",
   "pygments_lexer": "ipython3",
   "version": "3.6.8"
  }
 },
 "nbformat": 4,
 "nbformat_minor": 2
}
